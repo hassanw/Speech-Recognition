{
 "cells": [
  {
   "cell_type": "code",
   "execution_count": 1,
   "metadata": {},
   "outputs": [
    {
     "name": "stderr",
     "output_type": "stream",
     "text": [
      "D:\\Miniconda2\\envs\\py36\\lib\\site-packages\\h5py\\__init__.py:36: FutureWarning: Conversion of the second argument of issubdtype from `float` to `np.floating` is deprecated. In future, it will be treated as `np.float64 == np.dtype(float).type`.\n",
      "  from ._conv import register_converters as _register_converters\n"
     ]
    }
   ],
   "source": [
    "import os\n",
    "from os.path import isdir\n",
    "\n",
    "import pandas as pd\n",
    "import numpy as np\n",
    "import matplotlib.pyplot as plt\n",
    "%matplotlib inline\n",
    "import seaborn as sns\n",
    "from sklearn.preprocessing import LabelEncoder\n",
    "from sklearn.metrics import confusion_matrix\n",
    "\n",
    "import tensorflow as tf\n",
    "import tensorflow.keras as keras\n",
    "from tensorflow.keras.models import Sequential\n",
    "from tensorflow.keras.layers import InputLayer\n",
    "from tensorflow.keras.layers import Dense, Flatten\n",
    "from tensorflow.keras.utils import to_categorical\n",
    "from tensorflow.keras.callbacks import EarlyStopping"
   ]
  },
  {
   "cell_type": "markdown",
   "metadata": {},
   "source": [
    "# Loading and Reshaping Data"
   ]
  },
  {
   "cell_type": "code",
   "execution_count": 2,
   "metadata": {},
   "outputs": [
    {
     "name": "stdout",
     "output_type": "stream",
     "text": [
      "Number of training samples: 84843\n",
      "Number of validation samples: 9981\n",
      "Number of testing samples: 11005\n",
      "Shape of each sample: (20, 32)\n"
     ]
    }
   ],
   "source": [
    "words = [word for word in os.listdir('data/train')]\n",
    "command_words = sorted(['yes', 'no', 'up', 'down', 'left', 'right', 'on', 'off', 'stop', 'go', 'unknown'])\n",
    "\n",
    "\n",
    "def get_fold_data(fold, words=words):\n",
    "    \"\"\"\n",
    "    Reads in mfcc data  and labels for entire fold\n",
    "    fold: 'train', 'validation', or 'test'\n",
    "    words: list of words to extract\n",
    "    \"\"\"\n",
    "    def load_word(word_name):   \n",
    "        X = np.load('data/{}/{}/mfcc.npy'.format(fold, word_name))\n",
    "        y = np.full(shape=X.shape[0],\n",
    "                    fill_value=word_name if word_name in command_words else 'unknown')\n",
    "        return X, y\n",
    "    \n",
    "    X_total = np.array([]).reshape(0, 20 , 32)\n",
    "    y_total = np.array([])\n",
    "    for word in words:\n",
    "        X_word, y_word = load_word(word)\n",
    "        X_total = np.vstack([X_total, X_word])\n",
    "        y_total = np.append(y_total, y_word)\n",
    "        \n",
    "    return X_total, y_total\n",
    "\n",
    "X_train, y_train = get_fold_data('train')\n",
    "X_val, y_val = get_fold_data('validation')\n",
    "X_test, y_test = get_fold_data('test')\n",
    "\n",
    "print('Number of training samples: {}'.format(len(X_train)))\n",
    "print('Number of validation samples: {}'.format(len(X_val)))\n",
    "print('Number of testing samples: {}'.format(len(X_test)))\n",
    "print('Shape of each sample: {}'.format(X_train[0].shape))"
   ]
  },
  {
   "cell_type": "code",
   "execution_count": 3,
   "metadata": {},
   "outputs": [
    {
     "data": {
      "text/html": [
       "<div>\n",
       "<style scoped>\n",
       "    .dataframe tbody tr th:only-of-type {\n",
       "        vertical-align: middle;\n",
       "    }\n",
       "\n",
       "    .dataframe tbody tr th {\n",
       "        vertical-align: top;\n",
       "    }\n",
       "\n",
       "    .dataframe thead th {\n",
       "        text-align: right;\n",
       "    }\n",
       "</style>\n",
       "<table border=\"1\" class=\"dataframe\">\n",
       "  <thead>\n",
       "    <tr style=\"text-align: right;\">\n",
       "      <th></th>\n",
       "      <th>train</th>\n",
       "      <th>validation</th>\n",
       "      <th>test</th>\n",
       "    </tr>\n",
       "  </thead>\n",
       "  <tbody>\n",
       "    <tr>\n",
       "      <th>down</th>\n",
       "      <td>3134</td>\n",
       "      <td>377</td>\n",
       "      <td>406</td>\n",
       "    </tr>\n",
       "    <tr>\n",
       "      <th>go</th>\n",
       "      <td>3106</td>\n",
       "      <td>372</td>\n",
       "      <td>402</td>\n",
       "    </tr>\n",
       "    <tr>\n",
       "      <th>left</th>\n",
       "      <td>3037</td>\n",
       "      <td>352</td>\n",
       "      <td>412</td>\n",
       "    </tr>\n",
       "    <tr>\n",
       "      <th>no</th>\n",
       "      <td>3130</td>\n",
       "      <td>406</td>\n",
       "      <td>405</td>\n",
       "    </tr>\n",
       "    <tr>\n",
       "      <th>off</th>\n",
       "      <td>2970</td>\n",
       "      <td>373</td>\n",
       "      <td>402</td>\n",
       "    </tr>\n",
       "    <tr>\n",
       "      <th>on</th>\n",
       "      <td>3086</td>\n",
       "      <td>363</td>\n",
       "      <td>396</td>\n",
       "    </tr>\n",
       "    <tr>\n",
       "      <th>right</th>\n",
       "      <td>3019</td>\n",
       "      <td>363</td>\n",
       "      <td>396</td>\n",
       "    </tr>\n",
       "    <tr>\n",
       "      <th>stop</th>\n",
       "      <td>3111</td>\n",
       "      <td>350</td>\n",
       "      <td>411</td>\n",
       "    </tr>\n",
       "    <tr>\n",
       "      <th>unknown</th>\n",
       "      <td>54074</td>\n",
       "      <td>6278</td>\n",
       "      <td>6931</td>\n",
       "    </tr>\n",
       "    <tr>\n",
       "      <th>up</th>\n",
       "      <td>2948</td>\n",
       "      <td>350</td>\n",
       "      <td>425</td>\n",
       "    </tr>\n",
       "    <tr>\n",
       "      <th>yes</th>\n",
       "      <td>3228</td>\n",
       "      <td>397</td>\n",
       "      <td>419</td>\n",
       "    </tr>\n",
       "  </tbody>\n",
       "</table>\n",
       "</div>"
      ],
      "text/plain": [
       "         train  validation  test\n",
       "down      3134         377   406\n",
       "go        3106         372   402\n",
       "left      3037         352   412\n",
       "no        3130         406   405\n",
       "off       2970         373   402\n",
       "on        3086         363   396\n",
       "right     3019         363   396\n",
       "stop      3111         350   411\n",
       "unknown  54074        6278  6931\n",
       "up        2948         350   425\n",
       "yes       3228         397   419"
      ]
     },
     "execution_count": 3,
     "metadata": {},
     "output_type": "execute_result"
    }
   ],
   "source": [
    "#holds counts of each word for each fold\n",
    "word_counts = pd.DataFrame()\n",
    "for fold, y in zip(['train', 'validation', 'test'], [y_train, y_val, y_test]):\n",
    "    word_counts[fold] = pd.Series(y).value_counts()\n",
    "word_counts = word_counts.sort_index()\n",
    "word_counts"
   ]
  },
  {
   "cell_type": "code",
   "execution_count": 4,
   "metadata": {},
   "outputs": [
    {
     "name": "stdout",
     "output_type": "stream",
     "text": [
      "X_train shape: (84843, 20, 32)\n",
      "y_train shape: (84843,)\n"
     ]
    }
   ],
   "source": [
    "def reformat_data(X, y):\n",
    "    \"\"\"\n",
    "    Reshapes X into an 'image' of depth 1\n",
    "    Encodes y into one hot encoded integers\n",
    "    \"\"\"\n",
    "    X = X = X.reshape(X.shape[0], X.shape[1], X.shape[2], 1)\n",
    "    y = LabelEncoder().fit_transform(y)\n",
    "    y = to_categorical(y)\n",
    "    return X, y\n",
    "\n",
    "_, y_train_hot = reformat_data(X_train, y_train)\n",
    "_, y_val_hot = reformat_data(X_val, y_val)\n",
    "_, y_test_hot = reformat_data(X_test, y_test)\n",
    "    \n",
    "print('X_train shape: {}'.format(X_train.shape))\n",
    "print('y_train shape: {}'.format(y_train.shape))"
   ]
  },
  {
   "cell_type": "markdown",
   "metadata": {},
   "source": [
    "# Single Layer Perceptron"
   ]
  },
  {
   "cell_type": "code",
   "execution_count": 5,
   "metadata": {},
   "outputs": [],
   "source": [
    "opt = keras.optimizers.Adam(lr=0.0001, epsilon=10**-8)\n",
    "early_stopping_monitor = EarlyStopping(patience=3)"
   ]
  },
  {
   "cell_type": "code",
   "execution_count": 6,
   "metadata": {},
   "outputs": [
    {
     "name": "stdout",
     "output_type": "stream",
     "text": [
      "Train on 84843 samples, validate on 9981 samples\n",
      "Epoch 1/100\n",
      "84843/84843 [==============================] - 3s 38us/step - loss: 5.8987 - acc: 0.6338 - val_loss: 5.9767 - val_acc: 0.6291\n",
      "Epoch 2/100\n",
      "84843/84843 [==============================] - 2s 25us/step - loss: 5.8454 - acc: 0.6373 - val_loss: 5.9773 - val_acc: 0.6291\n",
      "Epoch 3/100\n",
      "84843/84843 [==============================] - 2s 26us/step - loss: 5.8453 - acc: 0.6373 - val_loss: 5.9799 - val_acc: 0.6290\n",
      "Epoch 4/100\n",
      "84843/84843 [==============================] - 2s 25us/step - loss: 5.8453 - acc: 0.6373 - val_loss: 5.9799 - val_acc: 0.6290\n"
     ]
    },
    {
     "data": {
      "text/plain": [
       "<tensorflow.python.keras.callbacks.History at 0x2c0055854a8>"
      ]
     },
     "execution_count": 6,
     "metadata": {},
     "output_type": "execute_result"
    }
   ],
   "source": [
    "model = Sequential()\n",
    "model.add(InputLayer(input_shape=(X_train[0].shape)))\n",
    "model.add(Flatten())\n",
    "model.add(Dense(11, activation='softmax'))\n",
    "model.compile(loss='categorical_crossentropy',\n",
    "              optimizer='adam',\n",
    "              metrics=['accuracy'])\n",
    "model.fit(X_train, y_train_hot, batch_size=100, epochs=100, verbose=1,\n",
    "          validation_data=(X_val, y_val_hot), callbacks=[early_stopping_monitor])"
   ]
  },
  {
   "cell_type": "code",
   "execution_count": 7,
   "metadata": {},
   "outputs": [
    {
     "name": "stdout",
     "output_type": "stream",
     "text": [
      "11005/11005 [==============================] - 0s 33us/step\n",
      "loss 5.966844289869356\n",
      "acc 0.6298046342571558\n"
     ]
    }
   ],
   "source": [
    "score = model.evaluate(x=X_test, y=y_test_hot)\n",
    "\n",
    "for name, value in zip(model.metrics_names, score):\n",
    "    print(name, value)"
   ]
  },
  {
   "cell_type": "code",
   "execution_count": 8,
   "metadata": {},
   "outputs": [
    {
     "data": {
      "image/png": "[encoded data removed]",
      "text/plain": [
       "<matplotlib.figure.Figure at 0x2c001162f98>"
      ]
     },
     "metadata": {},
     "output_type": "display_data"
    }
   ],
   "source": [
    "def plot_confusion_matrix(y_pred, y_test):\n",
    "    y_pred_labels = np.array([command_words[y] for y in y_pred])\n",
    "    conf_matrix = confusion_matrix(y_test, y_pred_labels)\n",
    "    conf_matrix_percent = np.divide(conf_matrix.T, conf_matrix.sum(axis=1)).T\n",
    "    fig, ax = plt.subplots(figsize=(12, 12))    \n",
    "    sns.heatmap(conf_matrix_percent, cmap='Blues', ax=ax, annot=True, fmt='.2f', cbar=False)\n",
    "    ax.set_xticklabels(command_words, rotation=90)\n",
    "    ax.set_yticklabels(command_words, rotation=0)\n",
    "    ax.set_ylabel('Observed')\n",
    "    ax.set_xlabel('Predicted')\n",
    "    plt.show()\n",
    "    return conf_matrix_percent\n",
    "    \n",
    "y_pred_perceptron = model.predict_classes(x=X_test)\n",
    "a = plot_confusion_matrix(y_pred_perceptron, y_test)"
   ]
  },
  {
   "cell_type": "markdown",
   "metadata": {},
   "source": [
    "# Simple Feedforward Neural Network"
   ]
  },
  {
   "cell_type": "code",
   "execution_count": 15,
   "metadata": {
    "scrolled": true
   },
   "outputs": [
    {
     "name": "stdout",
     "output_type": "stream",
     "text": [
      "Train on 84843 samples, validate on 9981 samples\n",
      "Epoch 1/100\n",
      "84843/84843 [==============================] - 3s 32us/step - loss: 14.6587 - acc: 0.0775 - val_loss: 13.7696 - val_acc: 0.1151\n",
      "Epoch 2/100\n",
      "84843/84843 [==============================] - 2s 27us/step - loss: 13.3321 - acc: 0.1237 - val_loss: 12.7444 - val_acc: 0.1442\n",
      "Epoch 3/100\n",
      "84843/84843 [==============================] - 2s 28us/step - loss: 12.6034 - acc: 0.1505 - val_loss: 12.1363 - val_acc: 0.1636\n",
      "Epoch 4/100\n",
      "84843/84843 [==============================] - 2s 27us/step - loss: 9.9264 - acc: 0.2949 - val_loss: 3.8493 - val_acc: 0.5119\n",
      "Epoch 5/100\n",
      "84843/84843 [==============================] - 2s 27us/step - loss: 2.2455 - acc: 0.5884 - val_loss: 1.8326 - val_acc: 0.6206\n",
      "Epoch 6/100\n",
      "84843/84843 [==============================] - 2s 28us/step - loss: 1.7169 - acc: 0.6466 - val_loss: 1.6574 - val_acc: 0.6502\n",
      "Epoch 7/100\n",
      "84843/84843 [==============================] - 3s 31us/step - loss: 1.5858 - acc: 0.6722 - val_loss: 1.5457 - val_acc: 0.6763\n",
      "Epoch 8/100\n",
      "84843/84843 [==============================] - 2s 27us/step - loss: 1.5030 - acc: 0.6896 - val_loss: 1.4896 - val_acc: 0.6890\n",
      "Epoch 9/100\n",
      "84843/84843 [==============================] - 2s 27us/step - loss: 1.4401 - acc: 0.7040 - val_loss: 1.4156 - val_acc: 0.7066\n",
      "Epoch 10/100\n",
      "84843/84843 [==============================] - 2s 27us/step - loss: 1.3872 - acc: 0.7175 - val_loss: 1.3931 - val_acc: 0.7114\n",
      "Epoch 11/100\n",
      "84843/84843 [==============================] - 3s 31us/step - loss: 1.3429 - acc: 0.7287 - val_loss: 1.3556 - val_acc: 0.7246\n",
      "Epoch 12/100\n",
      "84843/84843 [==============================] - 2s 27us/step - loss: 1.3071 - acc: 0.7373 - val_loss: 1.3427 - val_acc: 0.7284\n",
      "Epoch 13/100\n",
      "84843/84843 [==============================] - 2s 28us/step - loss: 1.2757 - acc: 0.7467 - val_loss: 1.3021 - val_acc: 0.7376\n",
      "Epoch 14/100\n",
      "84843/84843 [==============================] - 3s 30us/step - loss: 1.2482 - acc: 0.7541 - val_loss: 1.2803 - val_acc: 0.7474\n",
      "Epoch 15/100\n",
      "84843/84843 [==============================] - 3s 30us/step - loss: 1.2247 - acc: 0.7588 - val_loss: 1.2801 - val_acc: 0.7521\n",
      "Epoch 16/100\n",
      "84843/84843 [==============================] - 2s 29us/step - loss: 1.2062 - acc: 0.7643 - val_loss: 1.2557 - val_acc: 0.7518\n",
      "Epoch 17/100\n",
      "84843/84843 [==============================] - 3s 30us/step - loss: 1.1840 - acc: 0.7722 - val_loss: 1.2415 - val_acc: 0.7542\n",
      "Epoch 18/100\n",
      "84843/84843 [==============================] - 3s 30us/step - loss: 0.8143 - acc: 0.7652 - val_loss: 0.8189 - val_acc: 0.7608\n",
      "Epoch 19/100\n",
      "84843/84843 [==============================] - 2s 27us/step - loss: 0.6955 - acc: 0.7813 - val_loss: 0.7737 - val_acc: 0.7772\n",
      "Epoch 20/100\n",
      "84843/84843 [==============================] - 2s 27us/step - loss: 0.6646 - acc: 0.7890 - val_loss: 0.7617 - val_acc: 0.7731\n",
      "Epoch 21/100\n",
      "84843/84843 [==============================] - 2s 27us/step - loss: 0.6390 - acc: 0.7960 - val_loss: 0.7404 - val_acc: 0.7793\n",
      "Epoch 22/100\n",
      "84843/84843 [==============================] - 2s 27us/step - loss: 0.6200 - acc: 0.8008 - val_loss: 0.7271 - val_acc: 0.7848\n",
      "Epoch 23/100\n",
      "84843/84843 [==============================] - 2s 27us/step - loss: 0.6036 - acc: 0.8050 - val_loss: 0.7064 - val_acc: 0.7884\n",
      "Epoch 24/100\n",
      "84843/84843 [==============================] - 2s 27us/step - loss: 0.5896 - acc: 0.8101 - val_loss: 0.6970 - val_acc: 0.7917\n",
      "Epoch 25/100\n",
      "84843/84843 [==============================] - 2s 27us/step - loss: 0.5762 - acc: 0.8141 - val_loss: 0.7058 - val_acc: 0.7914\n",
      "Epoch 26/100\n",
      "84843/84843 [==============================] - 2s 27us/step - loss: 0.5641 - acc: 0.8184 - val_loss: 0.6801 - val_acc: 0.7949\n",
      "Epoch 27/100\n",
      "84843/84843 [==============================] - 2s 27us/step - loss: 0.5517 - acc: 0.8223 - val_loss: 0.6795 - val_acc: 0.7938\n",
      "Epoch 28/100\n",
      "84843/84843 [==============================] - 2s 27us/step - loss: 0.5420 - acc: 0.8235 - val_loss: 0.6731 - val_acc: 0.7974\n",
      "Epoch 29/100\n",
      "84843/84843 [==============================] - 3s 31us/step - loss: 0.5339 - acc: 0.8273 - val_loss: 0.6818 - val_acc: 0.7987\n",
      "Epoch 30/100\n",
      "84843/84843 [==============================] - 3s 31us/step - loss: 0.5240 - acc: 0.8291 - val_loss: 0.6687 - val_acc: 0.8010\n",
      "Epoch 31/100\n",
      "84843/84843 [==============================] - 3s 30us/step - loss: 0.5183 - acc: 0.8322 - val_loss: 0.6543 - val_acc: 0.8030\n",
      "Epoch 32/100\n",
      "84843/84843 [==============================] - 2s 26us/step - loss: 0.5078 - acc: 0.8349 - val_loss: 0.6530 - val_acc: 0.8053\n",
      "Epoch 33/100\n",
      "84843/84843 [==============================] - 2s 27us/step - loss: 0.5036 - acc: 0.8370 - val_loss: 0.6407 - val_acc: 0.8099\n",
      "Epoch 34/100\n",
      "84843/84843 [==============================] - 2s 27us/step - loss: 0.4959 - acc: 0.8383 - val_loss: 0.6386 - val_acc: 0.8084\n",
      "Epoch 35/100\n",
      "84843/84843 [==============================] - 3s 32us/step - loss: 0.4895 - acc: 0.8408 - val_loss: 0.6342 - val_acc: 0.8144\n",
      "Epoch 36/100\n",
      "84843/84843 [==============================] - 3s 30us/step - loss: 0.4839 - acc: 0.8422 - val_loss: 0.6490 - val_acc: 0.8096\n",
      "Epoch 37/100\n",
      "84843/84843 [==============================] - 3s 30us/step - loss: 0.4775 - acc: 0.8453 - val_loss: 0.6421 - val_acc: 0.8110\n",
      "Epoch 38/100\n",
      "84843/84843 [==============================] - 3s 31us/step - loss: 0.4724 - acc: 0.8466 - val_loss: 0.6289 - val_acc: 0.8142\n",
      "Epoch 39/100\n",
      "84843/84843 [==============================] - 3s 36us/step - loss: 0.4683 - acc: 0.8481 - val_loss: 0.6384 - val_acc: 0.8102\n",
      "Epoch 40/100\n",
      "84843/84843 [==============================] - 2s 28us/step - loss: 0.4627 - acc: 0.8498 - val_loss: 0.6290 - val_acc: 0.8160\n",
      "Epoch 41/100\n",
      "84843/84843 [==============================] - 2s 26us/step - loss: 0.4585 - acc: 0.8513 - val_loss: 0.6348 - val_acc: 0.8121\n"
     ]
    },
    {
     "data": {
      "text/plain": [
       "<tensorflow.python.keras.callbacks.History at 0x2c07e6802b0>"
      ]
     },
     "execution_count": 15,
     "metadata": {},
     "output_type": "execute_result"
    }
   ],
   "source": [
    "model2 = Sequential()\n",
    "model2.add(InputLayer(input_shape=(X_train[0].shape)))\n",
    "model2.add(Flatten())\n",
    "model2.add(Dense(50, activation='relu'))\n",
    "model2.add(Dense(100, activation='relu'))\n",
    "model2.add(Dense(11, activation='softmax'))\n",
    "model2.compile(loss='categorical_crossentropy',\n",
    "              optimizer=opt,\n",
    "              metrics=['accuracy'])\n",
    "model2.fit(X_train, y_train_hot, batch_size=100, epochs=100, verbose=1,\n",
    "          validation_data=(X_val, y_val_hot), callbacks=[early_stopping_monitor])"
   ]
  },
  {
   "cell_type": "code",
   "execution_count": 16,
   "metadata": {},
   "outputs": [
    {
     "name": "stdout",
     "output_type": "stream",
     "text": [
      "11005/11005 [==============================] - 0s 26us/step\n",
      "loss 0.6957181086700269\n",
      "acc 0.7980009086778737\n"
     ]
    }
   ],
   "source": [
    "score = model2.evaluate(x=X_test, y=y_test_hot)\n",
    "\n",
    "for name, value in zip(model2.metrics_names, score):\n",
    "    print(name, value)"
   ]
  },
  {
   "cell_type": "code",
   "execution_count": 17,
   "metadata": {},
   "outputs": [
    {
     "data": {
      "image/png": "[encoded data removed]",
      "text/plain": [
       "<matplotlib.figure.Figure at 0x2c005819048>"
      ]
     },
     "metadata": {},
     "output_type": "display_data"
    }
   ],
   "source": [
    "y_pred_ff = model2.predict_classes(x=X_test)\n",
    "b = plot_confusion_matrix(y_pred_ff, y_test)"
   ]
  }
 ],
 "metadata": {
  "kernelspec": {
   "display_name": "Python 3",
   "language": "python",
   "name": "python3"
  },
  "language_info": {
   "codemirror_mode": {
    "name": "ipython",
    "version": 3
   },
   "file_extension": ".py",
   "mimetype": "text/x-python",
   "name": "python",
   "nbconvert_exporter": "python",
   "pygments_lexer": "ipython3",
   "version": "3.6.4"
  }
 },
 "nbformat": 4,
 "nbformat_minor": 2
}
